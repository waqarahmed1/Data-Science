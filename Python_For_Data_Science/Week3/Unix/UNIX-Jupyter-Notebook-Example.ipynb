{
 "cells": [
  {
   "cell_type": "markdown",
   "metadata": {},
   "source": [
    "# UNIX Commands for Data Scientists"
   ]
  },
  {
   "cell_type": "markdown",
   "metadata": {},
   "source": [
    "In this reading we will go through the UNIX commands introduced in this week's video again so you can familiarize more with their syntax.\n",
    "\n",
    "At any point feel free to modify the code and explore yourself the functionality of the UNIX shell."
   ]
  },
  {
   "cell_type": "markdown",
   "metadata": {},
   "source": [
    "## How to execute the commands\n",
    "\n",
    "On **Windows** you need to open Git Bash and paste the command into the terminal, either using the mouse right click or right clicking on the top window border and select edit -> paste.\n",
    "\n",
    "On **Mac OS** or **Linux** you can choose to either execute commands through this Jupyter Notebook or copy paste them into a terminal."
   ]
  },
  {
   "cell_type": "markdown",
   "metadata": {},
   "source": [
    "## Declare Filename\n",
    "\n",
    "First we want to create a variable to hold the filename of the text file we want to analyze, so that if we want to change it later, we can change it only in this line.\n",
    "\n",
    "This is the only case where the syntax is different in the Jupyter Notebook and running directly in the shell.\n",
    "\n",
    "In the Notebook, each command is run on a separate shell process therefore we need to store `filename` in an enviromental variable, which is a way to set a persistent variable. This is performed using the `%env` IPython Magic function, execute `%env?` to learn more."
   ]
  },
  {
   "cell_type": "code",
   "metadata": {
    "collapsed": false,
    "ExecuteTime": {
     "end_time": "2024-08-04T19:08:24.398886Z",
     "start_time": "2024-08-04T19:08:24.239453Z"
    }
   },
   "source": [
    "!ls ./unix"
   ],
   "outputs": [
    {
     "name": "stdout",
     "output_type": "stream",
     "text": [
      "Icon?           shakespeare.txt\r\n"
     ]
    }
   ],
   "execution_count": 1
  },
  {
   "cell_type": "code",
   "metadata": {
    "collapsed": false,
    "ExecuteTime": {
     "end_time": "2024-08-04T19:08:27.789799Z",
     "start_time": "2024-08-04T19:08:27.781817Z"
    }
   },
   "source": [
    "%env filename=./unix/shakespeare.txt"
   ],
   "outputs": [
    {
     "name": "stdout",
     "output_type": "stream",
     "text": [
      "env: filename=./unix/shakespeare.txt\n"
     ]
    }
   ],
   "execution_count": 2
  },
  {
   "cell_type": "markdown",
   "metadata": {},
   "source": [
    "If you are instead running in a shell, you can just define a shell variable named filename with this syntax:\n",
    "\n",
    "    filename=./unix/shakespeare.txt\n",
    "    \n",
    "Make sure that there are **no spaces** around the equal sign."
   ]
  },
  {
   "cell_type": "markdown",
   "metadata": {},
   "source": [
    "We can verify that the variable is now defined by printing it out with `echo`. For the rest of this reading we will use this variable to point to the filename."
   ]
  },
  {
   "cell_type": "code",
   "metadata": {
    "collapsed": false,
    "ExecuteTime": {
     "end_time": "2024-08-04T19:08:39.498907Z",
     "start_time": "2024-08-04T19:08:39.322347Z"
    }
   },
   "source": [
    "!echo $filename"
   ],
   "outputs": [
    {
     "name": "stdout",
     "output_type": "stream",
     "text": [
      "./unix/shakespeare.txt\r\n"
     ]
    }
   ],
   "execution_count": 3
  },
  {
   "cell_type": "markdown",
   "metadata": {},
   "source": [
    "## head"
   ]
  },
  {
   "cell_type": "markdown",
   "metadata": {},
   "source": [
    "`head` prints some lines from the top of the file, you can specify how many with `-n`, what happens if you don't specify a number of lines?"
   ]
  },
  {
   "cell_type": "code",
   "metadata": {
    "collapsed": false,
    "ExecuteTime": {
     "end_time": "2024-08-04T19:08:43.640889Z",
     "start_time": "2024-08-04T19:08:43.501251Z"
    }
   },
   "source": [
    "!head -n 3 $filename"
   ],
   "outputs": [
    {
     "name": "stdout",
     "output_type": "stream",
     "text": [
      "This is the 100th Etext file presented by Project Gutenberg, and\r\n",
      "is presented in cooperation with World Library, Inc., from their\r\n",
      "Library of the Future and Shakespeare CDROMS.  Project Gutenberg\r\n"
     ]
    }
   ],
   "execution_count": 4
  },
  {
   "cell_type": "markdown",
   "metadata": {},
   "source": [
    "## tail"
   ]
  },
  {
   "cell_type": "code",
   "metadata": {
    "collapsed": false,
    "ExecuteTime": {
     "end_time": "2024-08-04T19:08:47.611286Z",
     "start_time": "2024-08-04T19:08:47.468059Z"
    }
   },
   "source": [
    "!tail -n 10 $filename"
   ],
   "outputs": [
    {
     "name": "stdout",
     "output_type": "stream",
     "text": [
      "PERSONAL USE ONLY, AND (2) ARE NOT DISTRIBUTED OR USED\r\n",
      "COMMERCIALLY.  PROHIBITED COMMERCIAL DISTRIBUTION INCLUDES BY ANY\r\n",
      "SERVICE THAT CHARGES FOR DOWNLOAD TIME OR FOR MEMBERSHIP.>>\r\n",
      "\r\n",
      "\r\n",
      "\r\n",
      "End of this Etext of The Complete Works of William Shakespeare\r\n",
      "\r\n",
      "\r\n",
      "\r\n"
     ]
    }
   ],
   "execution_count": 5
  },
  {
   "cell_type": "markdown",
   "metadata": {},
   "source": [
    "## wc"
   ]
  },
  {
   "cell_type": "markdown",
   "metadata": {},
   "source": [
    "`wc`, which stands for wordcount, prints the number of lines, words and characters:"
   ]
  },
  {
   "cell_type": "code",
   "metadata": {
    "collapsed": false,
    "ExecuteTime": {
     "end_time": "2024-08-04T19:08:51.150192Z",
     "start_time": "2024-08-04T19:08:50.992411Z"
    }
   },
   "source": [
    "!wc $filename"
   ],
   "outputs": [
    {
     "name": "stdout",
     "output_type": "stream",
     "text": [
      "  124505  901447 5583442 ./unix/shakespeare.txt\r\n"
     ]
    }
   ],
   "execution_count": 6
  },
  {
   "cell_type": "markdown",
   "metadata": {},
   "source": [
    "you can specify `-l` to only print the number of lines. Execute (in Git Bash on Windows or on Linux):\n",
    "\n",
    "    wc --help\n",
    "    \n",
    "or (on Mac or on Linux):\n",
    "\n",
    "    man wc\n",
    "        \n",
    "to find out how to print only words instead. Or guess!"
   ]
  },
  {
   "cell_type": "code",
   "metadata": {
    "collapsed": false,
    "ExecuteTime": {
     "end_time": "2024-08-04T19:09:02.629548Z",
     "start_time": "2024-08-04T19:09:02.480770Z"
    }
   },
   "source": [
    "!wc -l $filename"
   ],
   "outputs": [
    {
     "name": "stdout",
     "output_type": "stream",
     "text": [
      "  124505 ./unix/shakespeare.txt\r\n"
     ]
    }
   ],
   "execution_count": 7
  },
  {
   "cell_type": "markdown",
   "metadata": {},
   "source": [
    "## cat"
   ]
  },
  {
   "cell_type": "markdown",
   "metadata": {},
   "source": [
    "You can use pipes with `|` to stream the output of a command to the input of another, this is useful to compone many tools together to achieve a more complicated output.\n",
    "\n",
    "For example `cat` dumps the content of a file, then we can pipe it to `wc`:"
   ]
  },
  {
   "cell_type": "code",
   "metadata": {
    "collapsed": false,
    "ExecuteTime": {
     "end_time": "2024-08-04T19:09:06.312413Z",
     "start_time": "2024-08-04T19:09:06.175816Z"
    }
   },
   "source": [
    "!cat $filename | wc -l "
   ],
   "outputs": [
    {
     "name": "stdout",
     "output_type": "stream",
     "text": [
      "  124505\r\n"
     ]
    }
   ],
   "execution_count": 8
  },
  {
   "cell_type": "markdown",
   "metadata": {},
   "source": [
    "## grep"
   ]
  },
  {
   "cell_type": "markdown",
   "metadata": {},
   "source": [
    "`grep` is an extremely powerful tool to look for text in one or more files. For example in the next command we are looking for all the lines that contain a word, we also specify with `-i` that we are interested in case insensitive matching, i.e. don't care about case."
   ]
  },
  {
   "cell_type": "code",
   "metadata": {
    "collapsed": false,
    "ExecuteTime": {
     "end_time": "2024-08-04T19:09:10.170735Z",
     "start_time": "2024-08-04T19:09:09.847916Z"
    }
   },
   "source": [
    "!grep -i 'parchment' $filename"
   ],
   "outputs": [
    {
     "name": "stdout",
     "output_type": "stream",
     "text": [
      "  If the skin were parchment, and the blows you gave were ink,\r\n",
      "  Ham. Is not parchment made of sheepskins?\r\n",
      "    of the skin of an innocent lamb should be made parchment? That\r\n",
      "    parchment, being scribbl'd o'er, should undo a man? Some say the\r\n",
      "    Upon a parchment, and against this fire\r\n",
      "    But here's a parchment with the seal of Caesar;  \r\n",
      "    With inky blots and rotten parchment bonds;\r\n",
      "    Nor brass, nor stone, nor parchment, bears not one,\r\n"
     ]
    }
   ],
   "execution_count": 9
  },
  {
   "cell_type": "markdown",
   "metadata": {},
   "source": [
    "We can combine `grep` and `wc` to count the number of lines in a file that contain a specific word: "
   ]
  },
  {
   "cell_type": "code",
   "metadata": {
    "collapsed": false,
    "ExecuteTime": {
     "end_time": "2024-08-04T19:09:47.261895Z",
     "start_time": "2024-08-04T19:09:46.935856Z"
    }
   },
   "source": [
    "!grep -i 'liberty' $filename | wc -l"
   ],
   "outputs": [
    {
     "name": "stdout",
     "output_type": "stream",
     "text": [
      "      72\r\n"
     ]
    }
   ],
   "execution_count": 10
  },
  {
   "cell_type": "markdown",
   "metadata": {},
   "source": [
    "## sed"
   ]
  },
  {
   "cell_type": "markdown",
   "metadata": {},
   "source": [
    "`sed` is a powerful stream editor, it works similarly to `grep`, but it also modifies the output text, it uses regular expressions, which are a language to define pattern matching and replacement.\n",
    "\n",
    "For example:\n",
    "\n",
    "    s/from/to/g\n",
    "    \n",
    "means:\n",
    "\n",
    "* `s` for substitution\n",
    "* `from` is the word to match\n",
    "* `to` is the replacement string\n",
    "* `g` specifies to apply this to all occurrences on a line, not just the first\n",
    "\n",
    "In the following we are replacing all instances of 'parchment' to 'manuscript'\n",
    "\n",
    "Also we are redirecting the output to a file with `>`. Therefore the output instead of being printed to screen is saved in the text file `temp.txt`."
   ]
  },
  {
   "cell_type": "code",
   "metadata": {
    "collapsed": true,
    "ExecuteTime": {
     "end_time": "2024-08-04T19:09:50.544640Z",
     "start_time": "2024-08-04T19:09:50.267042Z"
    }
   },
   "source": [
    "#replace all instances of 'parchment' to 'manuscript'\n",
    "\n",
    "!sed -e 's/parchment/manuscript/g' $filename > temp.txt"
   ],
   "outputs": [],
   "execution_count": 11
  },
  {
   "cell_type": "markdown",
   "metadata": {},
   "source": [
    "Then we are checking with `grep` that `temp.txt` contains the word \"manuscript\":"
   ]
  },
  {
   "cell_type": "code",
   "metadata": {
    "collapsed": false,
    "ExecuteTime": {
     "end_time": "2024-08-04T19:09:52.187209Z",
     "start_time": "2024-08-04T19:09:51.868601Z"
    }
   },
   "source": [
    "!grep -i 'manuscript' temp.txt "
   ],
   "outputs": [
    {
     "name": "stdout",
     "output_type": "stream",
     "text": [
      "  If the skin were manuscript, and the blows you gave were ink,\r\n",
      "  Ham. Is not manuscript made of sheepskins?\r\n",
      "    of the skin of an innocent lamb should be made manuscript? That\r\n",
      "    manuscript, being scribbl'd o'er, should undo a man? Some say the\r\n",
      "    Upon a manuscript, and against this fire\r\n",
      "    But here's a manuscript with the seal of Caesar;  \r\n",
      "    With inky blots and rotten manuscript bonds;\r\n",
      "    Nor brass, nor stone, nor manuscript, bears not one,\r\n"
     ]
    }
   ],
   "execution_count": 12
  },
  {
   "cell_type": "markdown",
   "metadata": {},
   "source": [
    "## sort"
   ]
  },
  {
   "cell_type": "code",
   "metadata": {
    "collapsed": false,
    "ExecuteTime": {
     "end_time": "2024-08-04T19:09:53.045981Z",
     "start_time": "2024-08-04T19:09:52.916924Z"
    }
   },
   "source": [
    "!head -n 5 $filename"
   ],
   "outputs": [
    {
     "name": "stdout",
     "output_type": "stream",
     "text": [
      "This is the 100th Etext file presented by Project Gutenberg, and\r\n",
      "is presented in cooperation with World Library, Inc., from their\r\n",
      "Library of the Future and Shakespeare CDROMS.  Project Gutenberg\r\n",
      "often releases Etexts that are NOT placed in the Public Domain!!\r\n",
      "\r\n"
     ]
    }
   ],
   "execution_count": 13
  },
  {
   "cell_type": "markdown",
   "metadata": {},
   "source": [
    "We can sort in alphabetical order the first 5 lines in the file, see that we are just ordering by the first letter in each line:"
   ]
  },
  {
   "cell_type": "code",
   "metadata": {
    "collapsed": false,
    "ExecuteTime": {
     "end_time": "2024-08-04T19:09:54.358808Z",
     "start_time": "2024-08-04T19:09:54.207451Z"
    }
   },
   "source": [
    "!head -n 5 $filename | sort"
   ],
   "outputs": [
    {
     "name": "stdout",
     "output_type": "stream",
     "text": [
      "\r\n",
      "Library of the Future and Shakespeare CDROMS.  Project Gutenberg\r\n",
      "This is the 100th Etext file presented by Project Gutenberg, and\r\n",
      "is presented in cooperation with World Library, Inc., from their\r\n",
      "often releases Etexts that are NOT placed in the Public Domain!!\r\n"
     ]
    }
   ],
   "execution_count": 14
  },
  {
   "cell_type": "markdown",
   "metadata": {},
   "source": [
    "We can specify that we would like to sort on the second word of each line, we specify that the delimiter is space with `-t' '` and then specify we want to sort on column 2 `-k2`.\n",
    "\n",
    "Therefore we are sorting on \"is, of, presented, releases\""
   ]
  },
  {
   "cell_type": "code",
   "metadata": {
    "collapsed": false,
    "ExecuteTime": {
     "end_time": "2024-08-04T19:09:55.922683Z",
     "start_time": "2024-08-04T19:09:55.795815Z"
    }
   },
   "source": [
    "!head -n 5 $filename | sort -t' ' -k2"
   ],
   "outputs": [
    {
     "name": "stdout",
     "output_type": "stream",
     "text": [
      "\r\n",
      "This is the 100th Etext file presented by Project Gutenberg, and\r\n",
      "Library of the Future and Shakespeare CDROMS.  Project Gutenberg\r\n",
      "is presented in cooperation with World Library, Inc., from their\r\n",
      "often releases Etexts that are NOT placed in the Public Domain!!\r\n"
     ]
    }
   ],
   "execution_count": 15
  },
  {
   "cell_type": "markdown",
   "metadata": {},
   "source": [
    "`sort` is often used in combination with `uniq` to remove duplicated lines.\n",
    "\n",
    "`uniq -u` eliminates duplicated lines, but they need to be consecutive, therefore we first use `sort` to have equal lines consecutive and then we can filter them out easily with `uniq`:"
   ]
  },
  {
   "cell_type": "code",
   "metadata": {
    "collapsed": false,
    "ExecuteTime": {
     "end_time": "2024-08-04T19:10:00.661043Z",
     "start_time": "2024-08-04T19:09:58.557026Z"
    }
   },
   "source": [
    "!sort $filename | wc -l"
   ],
   "outputs": [
    {
     "name": "stdout",
     "output_type": "stream",
     "text": [
      "  124505\r\n"
     ]
    }
   ],
   "execution_count": 16
  },
  {
   "cell_type": "code",
   "metadata": {
    "collapsed": false,
    "ExecuteTime": {
     "end_time": "2024-08-04T19:10:02.676369Z",
     "start_time": "2024-08-04T19:10:00.664257Z"
    }
   },
   "source": [
    "!sort $filename | uniq -u | wc -l"
   ],
   "outputs": [
    {
     "name": "stdout",
     "output_type": "stream",
     "text": [
      "  110834\r\n"
     ]
    }
   ],
   "execution_count": 17
  },
  {
   "cell_type": "markdown",
   "metadata": {},
   "source": [
    "# Lets bring it all together\n",
    "\n",
    "The \"UNIX philosophy\" is \"Do one thing, do it well\" (https://en.wikipedia.org/wiki/Unix_philosophy). The point is to have specialized tools with just 1 well defined function and then compose them together with pipes."
   ]
  },
  {
   "cell_type": "markdown",
   "metadata": {
    "collapsed": false
   },
   "source": [
    "## Count the most frequent words\n",
    "\n",
    "For example we want to find the 15 most frequent words with their count. We can achieve this combining the tools we learned in this reading.\n",
    "\n",
    "First try it yourself, copy/paste this line many times run it piece by piece and try to understand what each step is doing, read documentation with `--help` or `man`, then will go through it together:"
   ]
  },
  {
   "cell_type": "markdown",
   "metadata": {},
   "source": [
    "**Warning for MAC OS**: Mac OS has a different version of `sed` that has a special treatment of line feed `\\n` and carriage return `\\n`. Therefore on Mac we need to replace each occurrence of:\n",
    "\n",
    "    sed -e 's/ /\\n/g' -e 's/\\r//g'\n",
    "\n",
    "with:\n",
    "\n",
    "    sed -e 's/ /\\'$'\\n/g' -e $'s/\\r//g'"
   ]
  },
  {
   "cell_type": "code",
   "metadata": {
    "collapsed": false,
    "ExecuteTime": {
     "end_time": "2024-08-04T19:14:07.089951Z",
     "start_time": "2024-08-04T19:13:59.005668Z"
    }
   },
   "source": [
    "!sed -e 's/ /\\n/g' -e 's/\\r//g' $filename  | sed '/^$/d'| sort | uniq -c | sort -nr | head -15"
   ],
   "outputs": [
    {
     "name": "stdout",
     "output_type": "stream",
     "text": [
      "23244 the\r\n",
      "19542 I\r\n",
      "18302 and\r\n",
      "15623 to\r\n",
      "15551 of\r\n",
      "12532 a\r\n",
      "10824 my\r\n",
      "9576 in\r\n",
      "9081 you\r\n",
      "7851 is\r\n",
      "7531 that\r\n",
      "7068 And\r\n",
      "6948 not\r\n",
      "6722 with\r\n",
      "6218 his\r\n",
      "sort: Broken pipe\r\n"
     ]
    }
   ],
   "execution_count": 18
  },
  {
   "cell_type": "markdown",
   "metadata": {},
   "source": [
    "**do not worry** about the Broken Pipe error, it is due to the fact that `head` is closing the pipe after the first 15 lines, and `sort` is complaining that it would have more text to write "
   ]
  },
  {
   "cell_type": "markdown",
   "metadata": {},
   "source": [
    "    !sed -e 's/ /\\n/g' -e 's/\\r//g' $filename\n",
    "    \n",
    "`sed` is making 2 replacements. The first replaces each space with `\\n`, which is the symbol for a newline character, basically this is splitting all of the words in a text on separate lines. See yourself below!\n",
    "\n",
    "The second replacement is more complicated, `shakespeare.txt` is using the Windows convention of using `\\r\\n` to indicate a new line. `\\r` is carriage return, we want to get rid of it, so we are replacing it with nothing."
   ]
  },
  {
   "cell_type": "code",
   "metadata": {
    "collapsed": false,
    "ExecuteTime": {
     "end_time": "2024-08-04T19:14:53.169344Z",
     "start_time": "2024-08-04T19:14:53.002190Z"
    }
   },
   "source": [
    "!sed -e 's/ /\\n/g' -e 's/\\r//g' < $filename | head"
   ],
   "outputs": [
    {
     "name": "stdout",
     "output_type": "stream",
     "text": [
      "This\r\n",
      "is\r\n",
      "the\r\n",
      "100th\r\n",
      "Etext\r\n",
      "file\r\n",
      "presented\r\n",
      "by\r\n",
      "Project\r\n",
      "Gutenberg,\r\n",
      "sed: stdout: Broken pipe\r\n"
     ]
    }
   ],
   "execution_count": 19
  },
  {
   "cell_type": "markdown",
   "metadata": {},
   "source": [
    "Next we are not interested in counting empty lines, so we can remove them with:\n",
    "\n",
    "     sed '/^$/d'\n",
    "     \n",
    "* `^` indicates the beginning of a line\n",
    "* `$` indicates the end of a line\n",
    "\n",
    "Therefore `/^$/` matches empty lines. `/d` instructs `sed` to delete them."
   ]
  },
  {
   "cell_type": "markdown",
   "metadata": {},
   "source": [
    "Next we'd like to count the occurrence of each word, here we can use `uniq` with the `-c` option, but as with the `-u` option, it needs equal lines to be consecutive, so we do a sort first:"
   ]
  },
  {
   "cell_type": "code",
   "metadata": {
    "collapsed": false,
    "ExecuteTime": {
     "end_time": "2024-08-04T19:15:04.570735Z",
     "start_time": "2024-08-04T19:14:56.248257Z"
    }
   },
   "source": [
    "!sed -e 's/ /\\n/g' -e 's/\\r//g' $filename  | sed '/^$/d' | sort | uniq -c | head"
   ],
   "outputs": [
    {
     "name": "stdout",
     "output_type": "stream",
     "text": [
      " 241 \"\r\n",
      "   1 \"'Tis\r\n",
      "   4 \"A\r\n",
      "   1 \"AS-IS\".\r\n",
      "   1 \"Air,\"\r\n",
      "   1 \"Alas,\r\n",
      "   2 \"Amen\"\r\n",
      "   1 \"Amen\"?\r\n",
      "   1 \"Amen,\"\r\n",
      "   1 \"And\r\n"
     ]
    }
   ],
   "execution_count": 20
  },
  {
   "cell_type": "markdown",
   "metadata": {},
   "source": [
    "Good so we have counted the words, so we need to sort but we need to sort in numeric ordering instead of alphabetical so we specify `-n`, also we need reverse order `-r`, bigger first!\n",
    "\n",
    "And finally we take the first 15 lines:"
   ]
  },
  {
   "cell_type": "code",
   "metadata": {
    "collapsed": false,
    "ExecuteTime": {
     "end_time": "2024-08-04T19:15:13.136207Z",
     "start_time": "2024-08-04T19:15:04.576595Z"
    }
   },
   "source": [
    "!sed -e 's/ /\\n/g' -e 's/\\r//g' $filename | sed '/^$/d' | sort | uniq -c | sort -nr | head -15"
   ],
   "outputs": [
    {
     "name": "stdout",
     "output_type": "stream",
     "text": [
      "23244 the\r\n",
      "19542 I\r\n",
      "18302 and\r\n",
      "15623 to\r\n",
      "15551 of\r\n",
      "12532 a\r\n",
      "10824 my\r\n",
      "9576 in\r\n",
      "9081 you\r\n",
      "7851 is\r\n",
      "7531 that\r\n",
      "7068 And\r\n",
      "6948 not\r\n",
      "6722 with\r\n",
      "6218 his\r\n",
      "sort: Broken pipe\r\n"
     ]
    }
   ],
   "execution_count": 21
  },
  {
   "cell_type": "markdown",
   "metadata": {
    "collapsed": false
   },
   "source": [
    "## Write the output to a file\n",
    "\n",
    "We can also do the same and save the output to a file for later usage:"
   ]
  },
  {
   "cell_type": "code",
   "metadata": {
    "collapsed": false,
    "ExecuteTime": {
     "end_time": "2024-08-04T19:15:23.402039Z",
     "start_time": "2024-08-04T19:15:13.138944Z"
    }
   },
   "source": [
    "!sed -e 's/ /\\n/g' -e 's/\\r//g' < $filename | sed '/^$/d' | sort | sed '/^$/d' | uniq -c | sort -nr | head -15 > count_vs_words"
   ],
   "outputs": [
    {
     "name": "stdout",
     "output_type": "stream",
     "text": [
      "sort: Broken pipe\r\n"
     ]
    }
   ],
   "execution_count": 22
  },
  {
   "cell_type": "code",
   "metadata": {
    "collapsed": false,
    "ExecuteTime": {
     "end_time": "2024-08-04T19:15:23.536519Z",
     "start_time": "2024-08-04T19:15:23.408595Z"
    }
   },
   "source": [
    "!cat count_vs_words"
   ],
   "outputs": [
    {
     "name": "stdout",
     "output_type": "stream",
     "text": [
      "23244 the\r\n",
      "19542 I\r\n",
      "18302 and\r\n",
      "15623 to\r\n",
      "15551 of\r\n",
      "12532 a\r\n",
      "10824 my\r\n",
      "9576 in\r\n",
      "9081 you\r\n",
      "7851 is\r\n",
      "7531 that\r\n",
      "7068 And\r\n",
      "6948 not\r\n",
      "6722 with\r\n",
      "6218 his\r\n"
     ]
    }
   ],
   "execution_count": 23
  },
  {
   "metadata": {},
   "cell_type": "code",
   "outputs": [],
   "execution_count": null,
   "source": ""
  }
 ],
 "metadata": {
  "kernelspec": {
   "display_name": "Python 3",
   "language": "python",
   "name": "python3"
  },
  "language_info": {
   "codemirror_mode": {
    "name": "ipython",
    "version": 3
   },
   "file_extension": ".py",
   "mimetype": "text/x-python",
   "name": "python",
   "nbconvert_exporter": "python",
   "pygments_lexer": "ipython3",
   "version": "3.6.0"
  }
 },
 "nbformat": 4,
 "nbformat_minor": 2
}
